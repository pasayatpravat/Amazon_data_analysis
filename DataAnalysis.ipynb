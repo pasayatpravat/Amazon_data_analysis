{
 "cells": [
  {
   "cell_type": "code",
   "execution_count": 279,
   "metadata": {},
   "outputs": [],
   "source": [
    "import pandas as pd\n",
    "import re\n",
    "import statistics\n",
    "import warnings\n",
    "from datetime import timedelta \n",
    "from sklearn import preprocessing\n",
    "import numpy as np\n",
    "import matplotlib.pyplot as plt\n",
    "import seaborn as sns\n",
    "import math\n",
    "warnings.filterwarnings(\"ignore\")"
   ]
  },
  {
   "cell_type": "markdown",
   "metadata": {},
   "source": [
    "# 1. Review Data"
   ]
  },
  {
   "cell_type": "markdown",
   "metadata": {},
   "source": [
    "## 1.1 Read data"
   ]
  },
  {
   "cell_type": "code",
   "execution_count": 94,
   "metadata": {},
   "outputs": [
    {
     "data": {
      "text/html": [
       "<div>\n",
       "<style scoped>\n",
       "    .dataframe tbody tr th:only-of-type {\n",
       "        vertical-align: middle;\n",
       "    }\n",
       "\n",
       "    .dataframe tbody tr th {\n",
       "        vertical-align: top;\n",
       "    }\n",
       "\n",
       "    .dataframe thead th {\n",
       "        text-align: right;\n",
       "    }\n",
       "</style>\n",
       "<table border=\"1\" class=\"dataframe\">\n",
       "  <thead>\n",
       "    <tr style=\"text-align: right;\">\n",
       "      <th></th>\n",
       "      <th>Unnamed: 0</th>\n",
       "      <th>reviewerID</th>\n",
       "      <th>asin</th>\n",
       "      <th>reviewerName</th>\n",
       "      <th>helpful</th>\n",
       "      <th>reviewText</th>\n",
       "      <th>overall</th>\n",
       "      <th>summary</th>\n",
       "      <th>unixReviewTime</th>\n",
       "      <th>reviewTime</th>\n",
       "    </tr>\n",
       "  </thead>\n",
       "  <tbody>\n",
       "    <tr>\n",
       "      <th>0</th>\n",
       "      <td>0</td>\n",
       "      <td>A1KLRMWW2FWPL4</td>\n",
       "      <td>0000031887</td>\n",
       "      <td>Amazon Customer \"cameramom\"</td>\n",
       "      <td>[0, 0]</td>\n",
       "      <td>This is a great tutu and at a really great pri...</td>\n",
       "      <td>5.0</td>\n",
       "      <td>Great tutu-  not cheaply made</td>\n",
       "      <td>1297468800</td>\n",
       "      <td>2011-02-12</td>\n",
       "    </tr>\n",
       "    <tr>\n",
       "      <th>1</th>\n",
       "      <td>1</td>\n",
       "      <td>A2G5TCU2WDFZ65</td>\n",
       "      <td>0000031887</td>\n",
       "      <td>Amazon Customer</td>\n",
       "      <td>[0, 0]</td>\n",
       "      <td>I bought this for my 4 yr old daughter for dan...</td>\n",
       "      <td>5.0</td>\n",
       "      <td>Very Cute!!</td>\n",
       "      <td>1358553600</td>\n",
       "      <td>2013-01-19</td>\n",
       "    </tr>\n",
       "  </tbody>\n",
       "</table>\n",
       "</div>"
      ],
      "text/plain": [
       "   Unnamed: 0      reviewerID        asin                 reviewerName  \\\n",
       "0           0  A1KLRMWW2FWPL4  0000031887  Amazon Customer \"cameramom\"   \n",
       "1           1  A2G5TCU2WDFZ65  0000031887              Amazon Customer   \n",
       "\n",
       "  helpful                                         reviewText  overall  \\\n",
       "0  [0, 0]  This is a great tutu and at a really great pri...      5.0   \n",
       "1  [0, 0]  I bought this for my 4 yr old daughter for dan...      5.0   \n",
       "\n",
       "                         summary  unixReviewTime reviewTime  \n",
       "0  Great tutu-  not cheaply made      1297468800 2011-02-12  \n",
       "1                    Very Cute!!      1358553600 2013-01-19  "
      ]
     },
     "execution_count": 94,
     "metadata": {},
     "output_type": "execute_result"
    }
   ],
   "source": [
    "# Read the data\n",
    "reviews_clothing_shoes_jewelry = pd.read_csv(\"reviews_Clothing_Shoes_and_Jewelry_5.csv\", parse_dates=[\"reviewTime\"])\n",
    "reviews_clothing_shoes_jewelry_bkp = reviews_clothing_shoes_jewelry\n",
    "reviews_clothing_shoes_jewelry.head(2)"
   ]
  },
  {
   "cell_type": "code",
   "execution_count": 280,
   "metadata": {},
   "outputs": [],
   "source": [
    "reviews_clothing_shoes_jewelry = reviews_clothing_shoes_jewelry_bkp"
   ]
  },
  {
   "cell_type": "raw",
   "metadata": {},
   "source": [
    "reviewerID - ID of the reviewer, e.g. A2SUAM1J3GNN3B\n",
    "asin - ID of the product, e.g. 0000013714\n",
    "reviewerName - name of the reviewer\n",
    "helpful - helpfulness rating of the review, e.g. 2/3\n",
    "reviewText - text of the review\n",
    "overall - rating of the product\n",
    "summary - summary of the review\n",
    "unixReviewTime - time of the review (unix time)\n",
    "reviewTime - time of the review (raw)"
   ]
  },
  {
   "cell_type": "markdown",
   "metadata": {},
   "source": [
    "## 1.2 Data Cleaning and Feature transformation"
   ]
  },
  {
   "cell_type": "code",
   "execution_count": 281,
   "metadata": {},
   "outputs": [
    {
     "data": {
      "text/plain": [
       "Unnamed: 0          0\n",
       "reviewerID          0\n",
       "asin                0\n",
       "reviewerName      469\n",
       "helpful             0\n",
       "reviewText         24\n",
       "overall             0\n",
       "summary             1\n",
       "unixReviewTime      0\n",
       "reviewTime          0\n",
       "dtype: int64"
      ]
     },
     "execution_count": 281,
     "metadata": {},
     "output_type": "execute_result"
    }
   ],
   "source": [
    "reviews_clothing_shoes_jewelry.isnull().sum()"
   ]
  },
  {
   "cell_type": "code",
   "execution_count": 282,
   "metadata": {},
   "outputs": [
    {
     "data": {
      "text/plain": [
       "Unnamed: 0          0\n",
       "reviewerID          0\n",
       "asin                0\n",
       "reviewerName      469\n",
       "helpful             0\n",
       "reviewText          0\n",
       "overall             0\n",
       "summary             1\n",
       "unixReviewTime      0\n",
       "reviewTime          0\n",
       "dtype: int64"
      ]
     },
     "execution_count": 282,
     "metadata": {},
     "output_type": "execute_result"
    }
   ],
   "source": [
    "# Remove rows with empty value (Important columns)\n",
    "reviews_clothing_shoes_jewelry = reviews_clothing_shoes_jewelry[~reviews_clothing_shoes_jewelry.reviewText.isna()]\n",
    "\n",
    "reviews_clothing_shoes_jewelry.isnull().sum()"
   ]
  },
  {
   "cell_type": "code",
   "execution_count": 283,
   "metadata": {},
   "outputs": [],
   "source": [
    "def calculate_mean_helpful(helpful):\n",
    "    return statistics.mean([int(x) for x in re.findall('\\d+', helpful)])\n",
    "\n",
    "reviews_clothing_shoes_jewelry[\"helpful_mean\"] = reviews_clothing_shoes_jewelry[\"helpful\"].apply(calculate_mean_helpful)"
   ]
  },
  {
   "cell_type": "code",
   "execution_count": 284,
   "metadata": {},
   "outputs": [
    {
     "data": {
      "text/html": [
       "<div>\n",
       "<style scoped>\n",
       "    .dataframe tbody tr th:only-of-type {\n",
       "        vertical-align: middle;\n",
       "    }\n",
       "\n",
       "    .dataframe tbody tr th {\n",
       "        vertical-align: top;\n",
       "    }\n",
       "\n",
       "    .dataframe thead th {\n",
       "        text-align: right;\n",
       "    }\n",
       "</style>\n",
       "<table border=\"1\" class=\"dataframe\">\n",
       "  <thead>\n",
       "    <tr style=\"text-align: right;\">\n",
       "      <th></th>\n",
       "      <th>reviewerID</th>\n",
       "      <th>asin</th>\n",
       "      <th>reviewText</th>\n",
       "      <th>overall</th>\n",
       "      <th>reviewTime</th>\n",
       "      <th>helpful_mean</th>\n",
       "    </tr>\n",
       "  </thead>\n",
       "  <tbody>\n",
       "    <tr>\n",
       "      <th>0</th>\n",
       "      <td>A1KLRMWW2FWPL4</td>\n",
       "      <td>0000031887</td>\n",
       "      <td>This is a great tutu and at a really great pri...</td>\n",
       "      <td>5.0</td>\n",
       "      <td>2011-02-12</td>\n",
       "      <td>0.0</td>\n",
       "    </tr>\n",
       "    <tr>\n",
       "      <th>1</th>\n",
       "      <td>A2G5TCU2WDFZ65</td>\n",
       "      <td>0000031887</td>\n",
       "      <td>I bought this for my 4 yr old daughter for dan...</td>\n",
       "      <td>5.0</td>\n",
       "      <td>2013-01-19</td>\n",
       "      <td>0.0</td>\n",
       "    </tr>\n",
       "  </tbody>\n",
       "</table>\n",
       "</div>"
      ],
      "text/plain": [
       "       reviewerID        asin  \\\n",
       "0  A1KLRMWW2FWPL4  0000031887   \n",
       "1  A2G5TCU2WDFZ65  0000031887   \n",
       "\n",
       "                                          reviewText  overall reviewTime  \\\n",
       "0  This is a great tutu and at a really great pri...      5.0 2011-02-12   \n",
       "1  I bought this for my 4 yr old daughter for dan...      5.0 2013-01-19   \n",
       "\n",
       "   helpful_mean  \n",
       "0           0.0  \n",
       "1           0.0  "
      ]
     },
     "execution_count": 284,
     "metadata": {},
     "output_type": "execute_result"
    }
   ],
   "source": [
    "# Remove unnecessary column\n",
    "reviews_clothing_shoes_jewelry.drop(['Unnamed: 0', 'reviewerName', 'helpful', 'summary', 'unixReviewTime'], axis = 1, inplace=True)\n",
    "reviews_clothing_shoes_jewelry.head(2)"
   ]
  },
  {
   "cell_type": "code",
   "execution_count": 285,
   "metadata": {},
   "outputs": [],
   "source": [
    "# Create new features\n",
    "reviews_clothing_shoes_jewelry[\"reviewYear\"] = pd.DatetimeIndex(reviews_clothing_shoes_jewelry[\"reviewTime\"]).year\n",
    "reviews_clothing_shoes_jewelry[\"reviewMonth\"] = pd.DatetimeIndex(reviews_clothing_shoes_jewelry[\"reviewTime\"]).month\n",
    "reviews_clothing_shoes_jewelry[\"reviewDay\"] = pd.DatetimeIndex(reviews_clothing_shoes_jewelry[\"reviewTime\"]).day\n",
    "reviews_clothing_shoes_jewelry[\"reviewQuarter\"] =  reviews_clothing_shoes_jewelry[\"reviewTime\"].dt.quarter\n",
    "reviews_clothing_shoes_jewelry[\"reviewDayOfWeek\"] =  reviews_clothing_shoes_jewelry[\"reviewTime\"].dt.weekday\n",
    "reviews_clothing_shoes_jewelry[\"reviewIsWeekend\"] =  (reviews_clothing_shoes_jewelry[\"reviewDayOfWeek\"] == 6) | (reviews_clothing_shoes_jewelry[\"reviewDayOfWeek\"] == 7)\n",
    "reviews_clothing_shoes_jewelry[\"reviewTextLength\"] =reviews_clothing_shoes_jewelry[\"reviewText\"].apply(len)"
   ]
  },
  {
   "cell_type": "code",
   "execution_count": 287,
   "metadata": {},
   "outputs": [],
   "source": [
    "reference_date = reviews_clothing_shoes_jewelry[\"reviewTime\"].max() + timedelta(days=1)\n",
    "reviews_clothing_shoes_jewelry[\"days_since_review\"] = (reference_date - reviews_clothing_shoes_jewelry[\"reviewTime\"]).dt.days\n",
    "reviews_clothing_shoes_jewelry[\"weeks_since_review\"] = (reference_date - reviews_clothing_shoes_jewelry[\"reviewTime\"]).dt.days/7\n",
    "reviews_clothing_shoes_jewelry[\"weeks_since_review\"] = reviews_clothing_shoes_jewelry[\"weeks_since_review\"].apply(math.ceil)"
   ]
  },
  {
   "cell_type": "code",
   "execution_count": 288,
   "metadata": {},
   "outputs": [
    {
     "data": {
      "text/html": [
       "<div>\n",
       "<style scoped>\n",
       "    .dataframe tbody tr th:only-of-type {\n",
       "        vertical-align: middle;\n",
       "    }\n",
       "\n",
       "    .dataframe tbody tr th {\n",
       "        vertical-align: top;\n",
       "    }\n",
       "\n",
       "    .dataframe thead th {\n",
       "        text-align: right;\n",
       "    }\n",
       "</style>\n",
       "<table border=\"1\" class=\"dataframe\">\n",
       "  <thead>\n",
       "    <tr style=\"text-align: right;\">\n",
       "      <th></th>\n",
       "      <th>reviewerID</th>\n",
       "      <th>asin</th>\n",
       "      <th>reviewText</th>\n",
       "      <th>overall</th>\n",
       "      <th>reviewTime</th>\n",
       "      <th>helpful_mean</th>\n",
       "      <th>reviewYear</th>\n",
       "      <th>reviewMonth</th>\n",
       "      <th>reviewDay</th>\n",
       "      <th>reviewQuarter</th>\n",
       "      <th>reviewDayOfWeek</th>\n",
       "      <th>reviewIsWeekend</th>\n",
       "      <th>reviewTextLength</th>\n",
       "      <th>days_since_review</th>\n",
       "      <th>weeks_since_review</th>\n",
       "    </tr>\n",
       "  </thead>\n",
       "  <tbody>\n",
       "    <tr>\n",
       "      <th>0</th>\n",
       "      <td>A1KLRMWW2FWPL4</td>\n",
       "      <td>0000031887</td>\n",
       "      <td>This is a great tutu and at a really great pri...</td>\n",
       "      <td>5.0</td>\n",
       "      <td>2011-02-12</td>\n",
       "      <td>0.0</td>\n",
       "      <td>2011</td>\n",
       "      <td>2</td>\n",
       "      <td>12</td>\n",
       "      <td>1</td>\n",
       "      <td>5</td>\n",
       "      <td>False</td>\n",
       "      <td>172</td>\n",
       "      <td>1258</td>\n",
       "      <td>180</td>\n",
       "    </tr>\n",
       "    <tr>\n",
       "      <th>1</th>\n",
       "      <td>A2G5TCU2WDFZ65</td>\n",
       "      <td>0000031887</td>\n",
       "      <td>I bought this for my 4 yr old daughter for dan...</td>\n",
       "      <td>5.0</td>\n",
       "      <td>2013-01-19</td>\n",
       "      <td>0.0</td>\n",
       "      <td>2013</td>\n",
       "      <td>1</td>\n",
       "      <td>19</td>\n",
       "      <td>1</td>\n",
       "      <td>5</td>\n",
       "      <td>False</td>\n",
       "      <td>306</td>\n",
       "      <td>551</td>\n",
       "      <td>79</td>\n",
       "    </tr>\n",
       "  </tbody>\n",
       "</table>\n",
       "</div>"
      ],
      "text/plain": [
       "       reviewerID        asin  \\\n",
       "0  A1KLRMWW2FWPL4  0000031887   \n",
       "1  A2G5TCU2WDFZ65  0000031887   \n",
       "\n",
       "                                          reviewText  overall reviewTime  \\\n",
       "0  This is a great tutu and at a really great pri...      5.0 2011-02-12   \n",
       "1  I bought this for my 4 yr old daughter for dan...      5.0 2013-01-19   \n",
       "\n",
       "   helpful_mean  reviewYear  reviewMonth  reviewDay  reviewQuarter  \\\n",
       "0           0.0        2011            2         12              1   \n",
       "1           0.0        2013            1         19              1   \n",
       "\n",
       "   reviewDayOfWeek  reviewIsWeekend  reviewTextLength  days_since_review  \\\n",
       "0                5            False               172               1258   \n",
       "1                5            False               306                551   \n",
       "\n",
       "   weeks_since_review  \n",
       "0                 180  \n",
       "1                  79  "
      ]
     },
     "execution_count": 288,
     "metadata": {},
     "output_type": "execute_result"
    }
   ],
   "source": [
    "reviews_clothing_shoes_jewelry.head(2)"
   ]
  },
  {
   "cell_type": "markdown",
   "metadata": {},
   "source": [
    "# 2. Metadata"
   ]
  },
  {
   "cell_type": "markdown",
   "metadata": {},
   "source": [
    "## 2.1 Read data"
   ]
  },
  {
   "cell_type": "code",
   "execution_count": 289,
   "metadata": {},
   "outputs": [
    {
     "data": {
      "text/html": [
       "<div>\n",
       "<style scoped>\n",
       "    .dataframe tbody tr th:only-of-type {\n",
       "        vertical-align: middle;\n",
       "    }\n",
       "\n",
       "    .dataframe tbody tr th {\n",
       "        vertical-align: top;\n",
       "    }\n",
       "\n",
       "    .dataframe thead th {\n",
       "        text-align: right;\n",
       "    }\n",
       "</style>\n",
       "<table border=\"1\" class=\"dataframe\">\n",
       "  <thead>\n",
       "    <tr style=\"text-align: right;\">\n",
       "      <th></th>\n",
       "      <th>metadataid</th>\n",
       "      <th>asin</th>\n",
       "      <th>salesrank</th>\n",
       "      <th>imurl</th>\n",
       "      <th>categories</th>\n",
       "      <th>title</th>\n",
       "      <th>description</th>\n",
       "      <th>price</th>\n",
       "      <th>related</th>\n",
       "      <th>brand</th>\n",
       "    </tr>\n",
       "  </thead>\n",
       "  <tbody>\n",
       "    <tr>\n",
       "      <th>0</th>\n",
       "      <td>2005401</td>\n",
       "      <td>B00004SR8Z</td>\n",
       "      <td>{'Clothing': 1631}</td>\n",
       "      <td>http://ecx.images-amazon.com/images/I/41RfWLMD...</td>\n",
       "      <td>[['Clothing, Shoes &amp; Jewelry', 'Luggage &amp; Trav...</td>\n",
       "      <td>Lewis N. Clark Deluxe Neck Stash</td>\n",
       "      <td>NaN</td>\n",
       "      <td>12.8</td>\n",
       "      <td>{'also_bought': ['B004RJWFDU', 'B00920ZC3O', '...</td>\n",
       "      <td>Lewis N. Clark</td>\n",
       "    </tr>\n",
       "    <tr>\n",
       "      <th>1</th>\n",
       "      <td>2217897</td>\n",
       "      <td>B0000ZE74A</td>\n",
       "      <td>{'Clothing': 4742}</td>\n",
       "      <td>http://ecx.images-amazon.com/images/I/41ryA-RO...</td>\n",
       "      <td>[['Clothing, Shoes &amp; Jewelry', 'Women', 'Cloth...</td>\n",
       "      <td>Vanity Fair Women's Lollipop Plus Size Cuff Le...</td>\n",
       "      <td>NaN</td>\n",
       "      <td>NaN</td>\n",
       "      <td>{'also_bought': ['B004PEHJ6U', 'B0000TF5VK', '...</td>\n",
       "      <td>NaN</td>\n",
       "    </tr>\n",
       "  </tbody>\n",
       "</table>\n",
       "</div>"
      ],
      "text/plain": [
       "   metadataid        asin           salesrank  \\\n",
       "0     2005401  B00004SR8Z  {'Clothing': 1631}   \n",
       "1     2217897  B0000ZE74A  {'Clothing': 4742}   \n",
       "\n",
       "                                               imurl  \\\n",
       "0  http://ecx.images-amazon.com/images/I/41RfWLMD...   \n",
       "1  http://ecx.images-amazon.com/images/I/41ryA-RO...   \n",
       "\n",
       "                                          categories  \\\n",
       "0  [['Clothing, Shoes & Jewelry', 'Luggage & Trav...   \n",
       "1  [['Clothing, Shoes & Jewelry', 'Women', 'Cloth...   \n",
       "\n",
       "                                               title description  price  \\\n",
       "0                   Lewis N. Clark Deluxe Neck Stash         NaN   12.8   \n",
       "1  Vanity Fair Women's Lollipop Plus Size Cuff Le...         NaN    NaN   \n",
       "\n",
       "                                             related           brand  \n",
       "0  {'also_bought': ['B004RJWFDU', 'B00920ZC3O', '...  Lewis N. Clark  \n",
       "1  {'also_bought': ['B004PEHJ6U', 'B0000TF5VK', '...             NaN  "
      ]
     },
     "execution_count": 289,
     "metadata": {},
     "output_type": "execute_result"
    }
   ],
   "source": [
    "# Read data\n",
    "metadata_clothing_shoes_jewelry = pd.read_csv(\"metadata_category_clothing_shoes_and_jewelry_only.csv\")\n",
    "metadata_clothing_shoes_jewelry_bkp = metadata_clothing_shoes_jewelry\n",
    "metadata_clothing_shoes_jewelry.head(2)"
   ]
  },
  {
   "cell_type": "code",
   "execution_count": 290,
   "metadata": {},
   "outputs": [],
   "source": [
    "metadata_clothing_shoes_jewelry = metadata_clothing_shoes_jewelry_bkp"
   ]
  },
  {
   "cell_type": "raw",
   "metadata": {},
   "source": [
    "asin - ID of the product, e.g. 0000031852\n",
    "title - name of the product\n",
    "price - price in US dollars (at time of crawl)\n",
    "imUrl - url of the product image\n",
    "related - related products (also bought, also viewed, bought together, buy after viewing)\n",
    "salesRank - sales rank information\n",
    "brand - brand name\n",
    "categories - list of categories the product belongs to"
   ]
  },
  {
   "cell_type": "markdown",
   "metadata": {},
   "source": [
    "## 2.2 Data Cleaning and Feature transformation"
   ]
  },
  {
   "cell_type": "code",
   "execution_count": 291,
   "metadata": {},
   "outputs": [
    {
     "data": {
      "text/plain": [
       "metadataid         0\n",
       "asin               0\n",
       "salesrank       1107\n",
       "imurl              0\n",
       "categories         0\n",
       "title             23\n",
       "description    21613\n",
       "price          12913\n",
       "related          124\n",
       "brand          19091\n",
       "dtype: int64"
      ]
     },
     "execution_count": 291,
     "metadata": {},
     "output_type": "execute_result"
    }
   ],
   "source": [
    "metadata_clothing_shoes_jewelry.isnull().sum()"
   ]
  },
  {
   "cell_type": "code",
   "execution_count": 292,
   "metadata": {},
   "outputs": [
    {
     "data": {
      "text/plain": [
       "metadataid        0\n",
       "asin              0\n",
       "salesrank         0\n",
       "imurl             0\n",
       "categories        0\n",
       "title             0\n",
       "description    2839\n",
       "price             0\n",
       "related           0\n",
       "brand             0\n",
       "dtype: int64"
      ]
     },
     "execution_count": 292,
     "metadata": {},
     "output_type": "execute_result"
    }
   ],
   "source": [
    "# Remove rows with empty value (Important columns)\n",
    "metadata_clothing_shoes_jewelry = metadata_clothing_shoes_jewelry[~metadata_clothing_shoes_jewelry.price.isna()]\n",
    "metadata_clothing_shoes_jewelry = metadata_clothing_shoes_jewelry[~metadata_clothing_shoes_jewelry.salesrank.isna()]\n",
    "metadata_clothing_shoes_jewelry = metadata_clothing_shoes_jewelry[~metadata_clothing_shoes_jewelry.related.isna()]\n",
    "metadata_clothing_shoes_jewelry = metadata_clothing_shoes_jewelry[~metadata_clothing_shoes_jewelry.brand.isna()]\n",
    "\n",
    "metadata_clothing_shoes_jewelry.isnull().sum()"
   ]
  },
  {
   "cell_type": "code",
   "execution_count": 293,
   "metadata": {},
   "outputs": [
    {
     "data": {
      "text/html": [
       "<div>\n",
       "<style scoped>\n",
       "    .dataframe tbody tr th:only-of-type {\n",
       "        vertical-align: middle;\n",
       "    }\n",
       "\n",
       "    .dataframe tbody tr th {\n",
       "        vertical-align: top;\n",
       "    }\n",
       "\n",
       "    .dataframe thead th {\n",
       "        text-align: right;\n",
       "    }\n",
       "</style>\n",
       "<table border=\"1\" class=\"dataframe\">\n",
       "  <thead>\n",
       "    <tr style=\"text-align: right;\">\n",
       "      <th></th>\n",
       "      <th>asin</th>\n",
       "      <th>salesrank</th>\n",
       "      <th>categories</th>\n",
       "      <th>price</th>\n",
       "      <th>related</th>\n",
       "      <th>brand</th>\n",
       "    </tr>\n",
       "  </thead>\n",
       "  <tbody>\n",
       "    <tr>\n",
       "      <th>0</th>\n",
       "      <td>B00004SR8Z</td>\n",
       "      <td>{'Clothing': 1631}</td>\n",
       "      <td>[['Clothing, Shoes &amp; Jewelry', 'Luggage &amp; Trav...</td>\n",
       "      <td>12.80</td>\n",
       "      <td>{'also_bought': ['B004RJWFDU', 'B00920ZC3O', '...</td>\n",
       "      <td>Lewis N. Clark</td>\n",
       "    </tr>\n",
       "    <tr>\n",
       "      <th>4</th>\n",
       "      <td>B00066TWMU</td>\n",
       "      <td>{'Clothing': 1199}</td>\n",
       "      <td>[['Clothing, Shoes &amp; Jewelry', 'ASICS'], ['Clo...</td>\n",
       "      <td>12.41</td>\n",
       "      <td>{'also_bought': ['B009DB3RS4', 'B001PFA35G', '...</td>\n",
       "      <td>ASICS</td>\n",
       "    </tr>\n",
       "  </tbody>\n",
       "</table>\n",
       "</div>"
      ],
      "text/plain": [
       "         asin           salesrank  \\\n",
       "0  B00004SR8Z  {'Clothing': 1631}   \n",
       "4  B00066TWMU  {'Clothing': 1199}   \n",
       "\n",
       "                                          categories  price  \\\n",
       "0  [['Clothing, Shoes & Jewelry', 'Luggage & Trav...  12.80   \n",
       "4  [['Clothing, Shoes & Jewelry', 'ASICS'], ['Clo...  12.41   \n",
       "\n",
       "                                             related           brand  \n",
       "0  {'also_bought': ['B004RJWFDU', 'B00920ZC3O', '...  Lewis N. Clark  \n",
       "4  {'also_bought': ['B009DB3RS4', 'B001PFA35G', '...           ASICS  "
      ]
     },
     "execution_count": 293,
     "metadata": {},
     "output_type": "execute_result"
    }
   ],
   "source": [
    "# Remove unnecessary column\n",
    "metadata_clothing_shoes_jewelry.drop(['imurl', 'metadataid', 'description', \"title\"], axis = 1, inplace=True)\n",
    "metadata_clothing_shoes_jewelry.head(2)"
   ]
  },
  {
   "cell_type": "code",
   "execution_count": 294,
   "metadata": {},
   "outputs": [],
   "source": [
    "def find_salesrank(salesrank):\n",
    "    rank = [int(x) for x in re.findall('\\d+', salesrank.replace(\"'\", \"\"))]\n",
    "    \n",
    "    if len(rank) == 0:\n",
    "        final_rank = None\n",
    "    else:\n",
    "        final_rank = statistics.mean(rank)\n",
    "        \n",
    "    return final_rank\n",
    "\n",
    "metadata_clothing_shoes_jewelry[\"sales_rank\"] = metadata_clothing_shoes_jewelry[\"salesrank\"].apply(find_salesrank)"
   ]
  },
  {
   "cell_type": "code",
   "execution_count": 295,
   "metadata": {},
   "outputs": [],
   "source": [
    "def find_sales_category(salesrank):\n",
    "    category = [x for x in re.findall('[a-zA-Z]+', salesrank)]\n",
    "    \n",
    "    if len(category) == 0:\n",
    "        final_category = None\n",
    "    else:\n",
    "        final_category = \" \".join(category)\n",
    "        \n",
    "    return final_category\n",
    "\n",
    "metadata_clothing_shoes_jewelry[\"sales_category\"] = metadata_clothing_shoes_jewelry[\"salesrank\"].apply(find_sales_category)"
   ]
  },
  {
   "cell_type": "code",
   "execution_count": 296,
   "metadata": {},
   "outputs": [],
   "source": [
    "def find_related_product(related):\n",
    "    patterns= [r'\\w+']\n",
    "    \n",
    "    for p in patterns:\n",
    "        related_products = re.findall(p, related.replace(\"also_bought\", \"\"))\n",
    "    \n",
    "    if len(related_products) == 0:\n",
    "        final_related_products = None\n",
    "    else:\n",
    "        final_related_products = \", \".join(related_products)\n",
    "        \n",
    "    return final_related_products\n",
    "\n",
    "metadata_clothing_shoes_jewelry[\"also_bought\"] = metadata_clothing_shoes_jewelry[\"related\"].apply(find_related_product)"
   ]
  },
  {
   "cell_type": "code",
   "execution_count": 297,
   "metadata": {},
   "outputs": [
    {
     "data": {
      "text/plain": [
       "asin               0\n",
       "salesrank          0\n",
       "categories         0\n",
       "price              0\n",
       "related            0\n",
       "brand              0\n",
       "sales_rank        73\n",
       "sales_category    73\n",
       "also_bought        0\n",
       "dtype: int64"
      ]
     },
     "execution_count": 297,
     "metadata": {},
     "output_type": "execute_result"
    }
   ],
   "source": [
    "metadata_clothing_shoes_jewelry.isnull().sum()"
   ]
  },
  {
   "cell_type": "code",
   "execution_count": 298,
   "metadata": {},
   "outputs": [
    {
     "data": {
      "text/plain": [
       "asin              0\n",
       "salesrank         0\n",
       "categories        0\n",
       "price             0\n",
       "related           0\n",
       "brand             0\n",
       "sales_rank        0\n",
       "sales_category    0\n",
       "also_bought       0\n",
       "dtype: int64"
      ]
     },
     "execution_count": 298,
     "metadata": {},
     "output_type": "execute_result"
    }
   ],
   "source": [
    "metadata_clothing_shoes_jewelry = metadata_clothing_shoes_jewelry[~metadata_clothing_shoes_jewelry.sales_rank.isna()]\n",
    "metadata_clothing_shoes_jewelry = metadata_clothing_shoes_jewelry[~metadata_clothing_shoes_jewelry.sales_category.isna()]\n",
    "metadata_clothing_shoes_jewelry.isnull().sum()"
   ]
  },
  {
   "cell_type": "code",
   "execution_count": 299,
   "metadata": {},
   "outputs": [
    {
     "data": {
      "text/html": [
       "<div>\n",
       "<style scoped>\n",
       "    .dataframe tbody tr th:only-of-type {\n",
       "        vertical-align: middle;\n",
       "    }\n",
       "\n",
       "    .dataframe tbody tr th {\n",
       "        vertical-align: top;\n",
       "    }\n",
       "\n",
       "    .dataframe thead th {\n",
       "        text-align: right;\n",
       "    }\n",
       "</style>\n",
       "<table border=\"1\" class=\"dataframe\">\n",
       "  <thead>\n",
       "    <tr style=\"text-align: right;\">\n",
       "      <th></th>\n",
       "      <th>asin</th>\n",
       "      <th>price</th>\n",
       "      <th>brand</th>\n",
       "      <th>sales_rank</th>\n",
       "      <th>sales_category</th>\n",
       "      <th>also_bought</th>\n",
       "    </tr>\n",
       "  </thead>\n",
       "  <tbody>\n",
       "    <tr>\n",
       "      <th>0</th>\n",
       "      <td>B00004SR8Z</td>\n",
       "      <td>12.80</td>\n",
       "      <td>Lewis N. Clark</td>\n",
       "      <td>1631.0</td>\n",
       "      <td>Clothing</td>\n",
       "      <td>B004RJWFDU, B00920ZC3O, B00920ZC3Y, B004RJWFN0...</td>\n",
       "    </tr>\n",
       "    <tr>\n",
       "      <th>4</th>\n",
       "      <td>B00066TWMU</td>\n",
       "      <td>12.41</td>\n",
       "      <td>ASICS</td>\n",
       "      <td>1199.0</td>\n",
       "      <td>Clothing</td>\n",
       "      <td>B009DB3RS4, B001PFA35G, B00G3K71KS, B00KOWEIAW...</td>\n",
       "    </tr>\n",
       "  </tbody>\n",
       "</table>\n",
       "</div>"
      ],
      "text/plain": [
       "         asin  price           brand  sales_rank sales_category  \\\n",
       "0  B00004SR8Z  12.80  Lewis N. Clark      1631.0       Clothing   \n",
       "4  B00066TWMU  12.41           ASICS      1199.0       Clothing   \n",
       "\n",
       "                                         also_bought  \n",
       "0  B004RJWFDU, B00920ZC3O, B00920ZC3Y, B004RJWFN0...  \n",
       "4  B009DB3RS4, B001PFA35G, B00G3K71KS, B00KOWEIAW...  "
      ]
     },
     "execution_count": 299,
     "metadata": {},
     "output_type": "execute_result"
    }
   ],
   "source": [
    "# Remove unnecessary column\n",
    "metadata_clothing_shoes_jewelry.drop(['salesrank', 'categories', 'related'], axis = 1, inplace=True)\n",
    "metadata_clothing_shoes_jewelry.head(2)"
   ]
  },
  {
   "cell_type": "markdown",
   "metadata": {},
   "source": [
    "# 3. Merge two datasets"
   ]
  },
  {
   "cell_type": "code",
   "execution_count": 301,
   "metadata": {},
   "outputs": [
    {
     "data": {
      "text/html": [
       "<div>\n",
       "<style scoped>\n",
       "    .dataframe tbody tr th:only-of-type {\n",
       "        vertical-align: middle;\n",
       "    }\n",
       "\n",
       "    .dataframe tbody tr th {\n",
       "        vertical-align: top;\n",
       "    }\n",
       "\n",
       "    .dataframe thead th {\n",
       "        text-align: right;\n",
       "    }\n",
       "</style>\n",
       "<table border=\"1\" class=\"dataframe\">\n",
       "  <thead>\n",
       "    <tr style=\"text-align: right;\">\n",
       "      <th></th>\n",
       "      <th>reviewerID</th>\n",
       "      <th>asin</th>\n",
       "      <th>reviewText</th>\n",
       "      <th>overall</th>\n",
       "      <th>reviewTime</th>\n",
       "      <th>helpful_mean</th>\n",
       "      <th>reviewYear</th>\n",
       "      <th>reviewMonth</th>\n",
       "      <th>reviewDay</th>\n",
       "      <th>reviewQuarter</th>\n",
       "      <th>reviewDayOfWeek</th>\n",
       "      <th>reviewIsWeekend</th>\n",
       "      <th>reviewTextLength</th>\n",
       "      <th>days_since_review</th>\n",
       "      <th>weeks_since_review</th>\n",
       "      <th>price</th>\n",
       "      <th>brand</th>\n",
       "      <th>sales_rank</th>\n",
       "      <th>sales_category</th>\n",
       "      <th>also_bought</th>\n",
       "    </tr>\n",
       "  </thead>\n",
       "  <tbody>\n",
       "    <tr>\n",
       "      <th>0</th>\n",
       "      <td>A1KLRMWW2FWPL4</td>\n",
       "      <td>0000031887</td>\n",
       "      <td>This is a great tutu and at a really great pri...</td>\n",
       "      <td>5.0</td>\n",
       "      <td>2011-02-12</td>\n",
       "      <td>0.0</td>\n",
       "      <td>2011</td>\n",
       "      <td>2</td>\n",
       "      <td>12</td>\n",
       "      <td>1</td>\n",
       "      <td>5</td>\n",
       "      <td>False</td>\n",
       "      <td>172</td>\n",
       "      <td>1258</td>\n",
       "      <td>180</td>\n",
       "      <td>6.79</td>\n",
       "      <td>Boutique Cutie</td>\n",
       "      <td>8547.0</td>\n",
       "      <td>Sports amp Outdoors</td>\n",
       "      <td>0000031852, 0000031895, 0000031909, B00D2K1M3O...</td>\n",
       "    </tr>\n",
       "    <tr>\n",
       "      <th>1</th>\n",
       "      <td>A2G5TCU2WDFZ65</td>\n",
       "      <td>0000031887</td>\n",
       "      <td>I bought this for my 4 yr old daughter for dan...</td>\n",
       "      <td>5.0</td>\n",
       "      <td>2013-01-19</td>\n",
       "      <td>0.0</td>\n",
       "      <td>2013</td>\n",
       "      <td>1</td>\n",
       "      <td>19</td>\n",
       "      <td>1</td>\n",
       "      <td>5</td>\n",
       "      <td>False</td>\n",
       "      <td>306</td>\n",
       "      <td>551</td>\n",
       "      <td>79</td>\n",
       "      <td>6.79</td>\n",
       "      <td>Boutique Cutie</td>\n",
       "      <td>8547.0</td>\n",
       "      <td>Sports amp Outdoors</td>\n",
       "      <td>0000031852, 0000031895, 0000031909, B00D2K1M3O...</td>\n",
       "    </tr>\n",
       "  </tbody>\n",
       "</table>\n",
       "</div>"
      ],
      "text/plain": [
       "       reviewerID        asin  \\\n",
       "0  A1KLRMWW2FWPL4  0000031887   \n",
       "1  A2G5TCU2WDFZ65  0000031887   \n",
       "\n",
       "                                          reviewText  overall reviewTime  \\\n",
       "0  This is a great tutu and at a really great pri...      5.0 2011-02-12   \n",
       "1  I bought this for my 4 yr old daughter for dan...      5.0 2013-01-19   \n",
       "\n",
       "   helpful_mean  reviewYear  reviewMonth  reviewDay  reviewQuarter  \\\n",
       "0           0.0        2011            2         12              1   \n",
       "1           0.0        2013            1         19              1   \n",
       "\n",
       "   reviewDayOfWeek  reviewIsWeekend  reviewTextLength  days_since_review  \\\n",
       "0                5            False               172               1258   \n",
       "1                5            False               306                551   \n",
       "\n",
       "   weeks_since_review  price           brand  sales_rank       sales_category  \\\n",
       "0                 180   6.79  Boutique Cutie      8547.0  Sports amp Outdoors   \n",
       "1                  79   6.79  Boutique Cutie      8547.0  Sports amp Outdoors   \n",
       "\n",
       "                                         also_bought  \n",
       "0  0000031852, 0000031895, 0000031909, B00D2K1M3O...  \n",
       "1  0000031852, 0000031895, 0000031909, B00D2K1M3O...  "
      ]
     },
     "execution_count": 301,
     "metadata": {},
     "output_type": "execute_result"
    }
   ],
   "source": [
    "reviews_metadata = reviews_clothing_shoes_jewelry.merge(metadata_clothing_shoes_jewelry, how=\"inner\", left_on=\"asin\", right_on=\"asin\")\n",
    "reviews_metadata.head(2)"
   ]
  },
  {
   "cell_type": "code",
   "execution_count": 302,
   "metadata": {},
   "outputs": [],
   "source": [
    "reviews_metadata.to_csv(\"clean_reviews_metadata.csv\")"
   ]
  },
  {
   "cell_type": "markdown",
   "metadata": {},
   "source": [
    "## 3.1 Group based on Customer"
   ]
  },
  {
   "cell_type": "code",
   "execution_count": 303,
   "metadata": {},
   "outputs": [
    {
     "data": {
      "text/html": [
       "<div>\n",
       "<style scoped>\n",
       "    .dataframe tbody tr th:only-of-type {\n",
       "        vertical-align: middle;\n",
       "    }\n",
       "\n",
       "    .dataframe tbody tr th {\n",
       "        vertical-align: top;\n",
       "    }\n",
       "\n",
       "    .dataframe thead th {\n",
       "        text-align: right;\n",
       "    }\n",
       "</style>\n",
       "<table border=\"1\" class=\"dataframe\">\n",
       "  <thead>\n",
       "    <tr style=\"text-align: right;\">\n",
       "      <th></th>\n",
       "      <th>reviewerID</th>\n",
       "      <th>weeks_since_last_review</th>\n",
       "      <th>number_of_reviews</th>\n",
       "      <th>total_purchase_amount</th>\n",
       "    </tr>\n",
       "  </thead>\n",
       "  <tbody>\n",
       "    <tr>\n",
       "      <th>0</th>\n",
       "      <td>A001114613O3F18Q5NVR6</td>\n",
       "      <td>90</td>\n",
       "      <td>1</td>\n",
       "      <td>52.99</td>\n",
       "    </tr>\n",
       "    <tr>\n",
       "      <th>1</th>\n",
       "      <td>A00338282E99B8OR2JYTZ</td>\n",
       "      <td>28</td>\n",
       "      <td>2</td>\n",
       "      <td>23.54</td>\n",
       "    </tr>\n",
       "    <tr>\n",
       "      <th>2</th>\n",
       "      <td>A00354001GE099Q1FL0TU</td>\n",
       "      <td>58</td>\n",
       "      <td>1</td>\n",
       "      <td>18.02</td>\n",
       "    </tr>\n",
       "    <tr>\n",
       "      <th>3</th>\n",
       "      <td>A007227915NZZC7B6P030</td>\n",
       "      <td>7</td>\n",
       "      <td>1</td>\n",
       "      <td>13.64</td>\n",
       "    </tr>\n",
       "    <tr>\n",
       "      <th>4</th>\n",
       "      <td>A01103631SAT3BPLD52LV</td>\n",
       "      <td>57</td>\n",
       "      <td>1</td>\n",
       "      <td>10.00</td>\n",
       "    </tr>\n",
       "  </tbody>\n",
       "</table>\n",
       "</div>"
      ],
      "text/plain": [
       "              reviewerID  weeks_since_last_review  number_of_reviews  \\\n",
       "0  A001114613O3F18Q5NVR6                       90                  1   \n",
       "1  A00338282E99B8OR2JYTZ                       28                  2   \n",
       "2  A00354001GE099Q1FL0TU                       58                  1   \n",
       "3  A007227915NZZC7B6P030                        7                  1   \n",
       "4  A01103631SAT3BPLD52LV                       57                  1   \n",
       "\n",
       "   total_purchase_amount  \n",
       "0                  52.99  \n",
       "1                  23.54  \n",
       "2                  18.02  \n",
       "3                  13.64  \n",
       "4                  10.00  "
      ]
     },
     "execution_count": 303,
     "metadata": {},
     "output_type": "execute_result"
    }
   ],
   "source": [
    "customer_recency_freq_monetary_matrix = reviews_metadata.groupby([\"reviewerID\"]).agg({\"weeks_since_review\": \"min\", \"reviewYear\": \"count\", \"price\": \"sum\"})\n",
    "customer_recency_freq_monetary_matrix.reset_index(inplace=True)\n",
    "\n",
    "customer_recency_freq_monetary_matrix.rename(\n",
    "    columns={\n",
    "        \"weeks_since_review\": \"weeks_since_last_review\",\n",
    "        \"reviewYear\": \"number_of_reviews\",\n",
    "        \"price\": \"total_purchase_amount\"\n",
    "    },\n",
    "    inplace=True,\n",
    ")\n",
    "\n",
    "customer_recency_freq_monetary_matrix.head()"
   ]
  },
  {
   "cell_type": "code",
   "execution_count": 313,
   "metadata": {},
   "outputs": [],
   "source": [
    "customer_recency_freq_monetary_matrix[\"relative_recency_score\"] = 1/(customer_recency_freq_monetary_matrix[\"weeks_since_last_review\"]/customer_recency_freq_monetary_matrix[\"weeks_since_last_review\"].max())\n",
    "customer_recency_freq_monetary_matrix[\"relative_recency_score\"] = customer_recency_freq_monetary_matrix[\"relative_recency_score\"]/customer_recency_freq_monetary_matrix[\"relative_recency_score\"].max()\n",
    "customer_recency_freq_monetary_matrix[\"relative_frequency_score\"] = customer_recency_freq_monetary_matrix[\"number_of_reviews\"]/customer_recency_freq_monetary_matrix[\"number_of_reviews\"].max()\n",
    "customer_recency_freq_monetary_matrix[\"relative_monetary_score\"] = customer_recency_freq_monetary_matrix[\"total_purchase_amount\"]/customer_recency_freq_monetary_matrix[\"total_purchase_amount\"].max()\n",
    "\n",
    "customer_recency_freq_monetary_matrix[\"relative_RFC_score\"] = customer_recency_freq_monetary_matrix[\"relative_recency_score\"] * customer_recency_freq_monetary_matrix[\"relative_frequency_score\"] * customer_recency_freq_monetary_matrix[\"relative_monetary_score\"] * 100"
   ]
  },
  {
   "cell_type": "code",
   "execution_count": 314,
   "metadata": {
    "scrolled": true
   },
   "outputs": [
    {
     "data": {
      "text/html": [
       "<div>\n",
       "<style scoped>\n",
       "    .dataframe tbody tr th:only-of-type {\n",
       "        vertical-align: middle;\n",
       "    }\n",
       "\n",
       "    .dataframe tbody tr th {\n",
       "        vertical-align: top;\n",
       "    }\n",
       "\n",
       "    .dataframe thead th {\n",
       "        text-align: right;\n",
       "    }\n",
       "</style>\n",
       "<table border=\"1\" class=\"dataframe\">\n",
       "  <thead>\n",
       "    <tr style=\"text-align: right;\">\n",
       "      <th></th>\n",
       "      <th>reviewerID</th>\n",
       "      <th>weeks_since_last_review</th>\n",
       "      <th>number_of_reviews</th>\n",
       "      <th>total_purchase_amount</th>\n",
       "      <th>relative_recency_score</th>\n",
       "      <th>relative_frequency_score</th>\n",
       "      <th>relative_monetary_score</th>\n",
       "      <th>relative_RFC_score</th>\n",
       "    </tr>\n",
       "  </thead>\n",
       "  <tbody>\n",
       "    <tr>\n",
       "      <th>0</th>\n",
       "      <td>A001114613O3F18Q5NVR6</td>\n",
       "      <td>90</td>\n",
       "      <td>1</td>\n",
       "      <td>52.99</td>\n",
       "      <td>0.011111</td>\n",
       "      <td>0.02439</td>\n",
       "      <td>0.008212</td>\n",
       "      <td>0.000223</td>\n",
       "    </tr>\n",
       "    <tr>\n",
       "      <th>1</th>\n",
       "      <td>A00338282E99B8OR2JYTZ</td>\n",
       "      <td>28</td>\n",
       "      <td>2</td>\n",
       "      <td>23.54</td>\n",
       "      <td>0.035714</td>\n",
       "      <td>0.04878</td>\n",
       "      <td>0.003648</td>\n",
       "      <td>0.000636</td>\n",
       "    </tr>\n",
       "    <tr>\n",
       "      <th>2</th>\n",
       "      <td>A00354001GE099Q1FL0TU</td>\n",
       "      <td>58</td>\n",
       "      <td>1</td>\n",
       "      <td>18.02</td>\n",
       "      <td>0.017241</td>\n",
       "      <td>0.02439</td>\n",
       "      <td>0.002793</td>\n",
       "      <td>0.000117</td>\n",
       "    </tr>\n",
       "    <tr>\n",
       "      <th>3</th>\n",
       "      <td>A007227915NZZC7B6P030</td>\n",
       "      <td>7</td>\n",
       "      <td>1</td>\n",
       "      <td>13.64</td>\n",
       "      <td>0.142857</td>\n",
       "      <td>0.02439</td>\n",
       "      <td>0.002114</td>\n",
       "      <td>0.000737</td>\n",
       "    </tr>\n",
       "    <tr>\n",
       "      <th>4</th>\n",
       "      <td>A01103631SAT3BPLD52LV</td>\n",
       "      <td>57</td>\n",
       "      <td>1</td>\n",
       "      <td>10.00</td>\n",
       "      <td>0.017544</td>\n",
       "      <td>0.02439</td>\n",
       "      <td>0.001550</td>\n",
       "      <td>0.000066</td>\n",
       "    </tr>\n",
       "  </tbody>\n",
       "</table>\n",
       "</div>"
      ],
      "text/plain": [
       "              reviewerID  weeks_since_last_review  number_of_reviews  \\\n",
       "0  A001114613O3F18Q5NVR6                       90                  1   \n",
       "1  A00338282E99B8OR2JYTZ                       28                  2   \n",
       "2  A00354001GE099Q1FL0TU                       58                  1   \n",
       "3  A007227915NZZC7B6P030                        7                  1   \n",
       "4  A01103631SAT3BPLD52LV                       57                  1   \n",
       "\n",
       "   total_purchase_amount  relative_recency_score  relative_frequency_score  \\\n",
       "0                  52.99                0.011111                   0.02439   \n",
       "1                  23.54                0.035714                   0.04878   \n",
       "2                  18.02                0.017241                   0.02439   \n",
       "3                  13.64                0.142857                   0.02439   \n",
       "4                  10.00                0.017544                   0.02439   \n",
       "\n",
       "   relative_monetary_score  relative_RFC_score  \n",
       "0                 0.008212            0.000223  \n",
       "1                 0.003648            0.000636  \n",
       "2                 0.002793            0.000117  \n",
       "3                 0.002114            0.000737  \n",
       "4                 0.001550            0.000066  "
      ]
     },
     "execution_count": 314,
     "metadata": {},
     "output_type": "execute_result"
    }
   ],
   "source": [
    "customer_recency_freq_monetary_matrix.head()"
   ]
  },
  {
   "cell_type": "code",
   "execution_count": 315,
   "metadata": {},
   "outputs": [
    {
     "data": {
      "image/png": "[encoded data removed]",
      "text/plain": [
       "<Figure size 864x504 with 1 Axes>"
      ]
     },
     "metadata": {
      "needs_background": "light"
     },
     "output_type": "display_data"
    }
   ],
   "source": [
    "plt.figure(figsize=(12,7))\n",
    "sns.distplot(\n",
    "    customer_recency_freq_monetary_matrix[\"relative_RFC_score\"],\n",
    "    hist=False,\n",
    "    kde=True,\n",
    "    bins=0.1,\n",
    "    color=\"blue\",\n",
    "    hist_kws={\"edgecolor\": \"black\"},\n",
    ")\n",
    "\n",
    "plt.title(\"Customer RFC value distribution\", fontweight='bold')\n",
    "plt.xlabel(\"RFC value\", fontweight='bold')\n",
    "plt.ylabel(\"Customer density\", fontweight='bold')\n",
    "plt.show()"
   ]
  },
  {
   "cell_type": "code",
   "execution_count": 322,
   "metadata": {},
   "outputs": [
    {
     "data": {
      "text/html": [
       "<div>\n",
       "<style scoped>\n",
       "    .dataframe tbody tr th:only-of-type {\n",
       "        vertical-align: middle;\n",
       "    }\n",
       "\n",
       "    .dataframe tbody tr th {\n",
       "        vertical-align: top;\n",
       "    }\n",
       "\n",
       "    .dataframe thead th {\n",
       "        text-align: right;\n",
       "    }\n",
       "</style>\n",
       "<table border=\"1\" class=\"dataframe\">\n",
       "  <thead>\n",
       "    <tr style=\"text-align: right;\">\n",
       "      <th></th>\n",
       "      <th>reviewerID</th>\n",
       "      <th>helpful_mean</th>\n",
       "      <th>product_rating_mean</th>\n",
       "    </tr>\n",
       "  </thead>\n",
       "  <tbody>\n",
       "    <tr>\n",
       "      <th>0</th>\n",
       "      <td>A001114613O3F18Q5NVR6</td>\n",
       "      <td>1.0</td>\n",
       "      <td>5.0</td>\n",
       "    </tr>\n",
       "    <tr>\n",
       "      <th>1</th>\n",
       "      <td>A00338282E99B8OR2JYTZ</td>\n",
       "      <td>0.0</td>\n",
       "      <td>4.0</td>\n",
       "    </tr>\n",
       "    <tr>\n",
       "      <th>2</th>\n",
       "      <td>A00354001GE099Q1FL0TU</td>\n",
       "      <td>0.0</td>\n",
       "      <td>3.0</td>\n",
       "    </tr>\n",
       "    <tr>\n",
       "      <th>3</th>\n",
       "      <td>A007227915NZZC7B6P030</td>\n",
       "      <td>0.0</td>\n",
       "      <td>5.0</td>\n",
       "    </tr>\n",
       "    <tr>\n",
       "      <th>4</th>\n",
       "      <td>A01103631SAT3BPLD52LV</td>\n",
       "      <td>0.0</td>\n",
       "      <td>5.0</td>\n",
       "    </tr>\n",
       "  </tbody>\n",
       "</table>\n",
       "</div>"
      ],
      "text/plain": [
       "              reviewerID  helpful_mean  product_rating_mean\n",
       "0  A001114613O3F18Q5NVR6           1.0                  5.0\n",
       "1  A00338282E99B8OR2JYTZ           0.0                  4.0\n",
       "2  A00354001GE099Q1FL0TU           0.0                  3.0\n",
       "3  A007227915NZZC7B6P030           0.0                  5.0\n",
       "4  A01103631SAT3BPLD52LV           0.0                  5.0"
      ]
     },
     "execution_count": 322,
     "metadata": {},
     "output_type": "execute_result"
    }
   ],
   "source": [
    "customer_rating_helpfulness = reviews_metadata.groupby([\"reviewerID\"]).agg({\"helpful_mean\": \"mean\", \"overall\": \"mean\"})\n",
    "customer_rating_helpfulness.reset_index(inplace=True)\n",
    "\n",
    "customer_rating_helpfulness.rename(\n",
    "    columns={\n",
    "        \"overall\": \"product_rating_mean\"\n",
    "    },\n",
    "    inplace=True,\n",
    ")\n",
    "\n",
    "customer_rating_helpfulness.head()"
   ]
  },
  {
   "cell_type": "markdown",
   "metadata": {},
   "source": [
    "## 3.2 Cross buy analysis"
   ]
  },
  {
   "cell_type": "code",
   "execution_count": 332,
   "metadata": {},
   "outputs": [
    {
     "data": {
      "text/html": [
       "<div>\n",
       "<style scoped>\n",
       "    .dataframe tbody tr th:only-of-type {\n",
       "        vertical-align: middle;\n",
       "    }\n",
       "\n",
       "    .dataframe tbody tr th {\n",
       "        vertical-align: top;\n",
       "    }\n",
       "\n",
       "    .dataframe thead th {\n",
       "        text-align: right;\n",
       "    }\n",
       "</style>\n",
       "<table border=\"1\" class=\"dataframe\">\n",
       "  <thead>\n",
       "    <tr style=\"text-align: right;\">\n",
       "      <th></th>\n",
       "      <th>reviewerID</th>\n",
       "      <th>asin</th>\n",
       "      <th>reviewText</th>\n",
       "      <th>overall</th>\n",
       "      <th>reviewTime</th>\n",
       "      <th>helpful_mean</th>\n",
       "      <th>reviewYear</th>\n",
       "      <th>reviewMonth</th>\n",
       "      <th>reviewDay</th>\n",
       "      <th>reviewQuarter</th>\n",
       "      <th>reviewDayOfWeek</th>\n",
       "      <th>reviewIsWeekend</th>\n",
       "      <th>reviewTextLength</th>\n",
       "      <th>days_since_review</th>\n",
       "      <th>weeks_since_review</th>\n",
       "      <th>price</th>\n",
       "      <th>brand</th>\n",
       "      <th>sales_rank</th>\n",
       "      <th>sales_category</th>\n",
       "      <th>also_bought</th>\n",
       "    </tr>\n",
       "  </thead>\n",
       "  <tbody>\n",
       "    <tr>\n",
       "      <th>0</th>\n",
       "      <td>A1KLRMWW2FWPL4</td>\n",
       "      <td>0000031887</td>\n",
       "      <td>This is a great tutu and at a really great pri...</td>\n",
       "      <td>5.0</td>\n",
       "      <td>2011-02-12</td>\n",
       "      <td>0.0</td>\n",
       "      <td>2011</td>\n",
       "      <td>2</td>\n",
       "      <td>12</td>\n",
       "      <td>1</td>\n",
       "      <td>5</td>\n",
       "      <td>False</td>\n",
       "      <td>172</td>\n",
       "      <td>1258</td>\n",
       "      <td>180</td>\n",
       "      <td>6.79</td>\n",
       "      <td>Boutique Cutie</td>\n",
       "      <td>8547.0</td>\n",
       "      <td>Sports amp Outdoors</td>\n",
       "      <td>0000031852, 0000031895, 0000031909, B00D2K1M3O...</td>\n",
       "    </tr>\n",
       "    <tr>\n",
       "      <th>1</th>\n",
       "      <td>A2G5TCU2WDFZ65</td>\n",
       "      <td>0000031887</td>\n",
       "      <td>I bought this for my 4 yr old daughter for dan...</td>\n",
       "      <td>5.0</td>\n",
       "      <td>2013-01-19</td>\n",
       "      <td>0.0</td>\n",
       "      <td>2013</td>\n",
       "      <td>1</td>\n",
       "      <td>19</td>\n",
       "      <td>1</td>\n",
       "      <td>5</td>\n",
       "      <td>False</td>\n",
       "      <td>306</td>\n",
       "      <td>551</td>\n",
       "      <td>79</td>\n",
       "      <td>6.79</td>\n",
       "      <td>Boutique Cutie</td>\n",
       "      <td>8547.0</td>\n",
       "      <td>Sports amp Outdoors</td>\n",
       "      <td>0000031852, 0000031895, 0000031909, B00D2K1M3O...</td>\n",
       "    </tr>\n",
       "  </tbody>\n",
       "</table>\n",
       "</div>"
      ],
      "text/plain": [
       "       reviewerID        asin  \\\n",
       "0  A1KLRMWW2FWPL4  0000031887   \n",
       "1  A2G5TCU2WDFZ65  0000031887   \n",
       "\n",
       "                                          reviewText  overall reviewTime  \\\n",
       "0  This is a great tutu and at a really great pri...      5.0 2011-02-12   \n",
       "1  I bought this for my 4 yr old daughter for dan...      5.0 2013-01-19   \n",
       "\n",
       "   helpful_mean  reviewYear  reviewMonth  reviewDay  reviewQuarter  \\\n",
       "0           0.0        2011            2         12              1   \n",
       "1           0.0        2013            1         19              1   \n",
       "\n",
       "   reviewDayOfWeek  reviewIsWeekend  reviewTextLength  days_since_review  \\\n",
       "0                5            False               172               1258   \n",
       "1                5            False               306                551   \n",
       "\n",
       "   weeks_since_review  price           brand  sales_rank       sales_category  \\\n",
       "0                 180   6.79  Boutique Cutie      8547.0  Sports amp Outdoors   \n",
       "1                  79   6.79  Boutique Cutie      8547.0  Sports amp Outdoors   \n",
       "\n",
       "                                         also_bought  \n",
       "0  0000031852, 0000031895, 0000031909, B00D2K1M3O...  \n",
       "1  0000031852, 0000031895, 0000031909, B00D2K1M3O...  "
      ]
     },
     "execution_count": 332,
     "metadata": {},
     "output_type": "execute_result"
    }
   ],
   "source": [
    "reviews_metadata.head(2)"
   ]
  },
  {
   "cell_type": "code",
   "execution_count": null,
   "metadata": {},
   "outputs": [],
   "source": [
    "def find_related_product_avg_rating(also_bought):\n",
    "    related_products = also_bought.split(\", \")\n",
    "    sum_rating_related_products = 0\n",
    "    \n",
    "    for related_product in related_products:\n",
    "        sum_rating_related_products = sum_rating_related_products + reviews_metadata[reviews_metadata[\"asin\"] == related_product][\"overall\"].mean()\n",
    "    \n",
    "    if len(related_products) == 0:\n",
    "        return 0\n",
    "    else:\n",
    "        return sum_rating_related_products/len(related_products)\n",
    "\n",
    "reviews_metadata[\"related_product_avg_rating\"] = reviews_metadata[\"also_bought\"].apply(find_related_product_avg_rating)"
   ]
  },
  {
   "cell_type": "code",
   "execution_count": 1,
   "metadata": {},
   "outputs": [
    {
     "ename": "NameError",
     "evalue": "name 'reviews_metadata' is not defined",
     "output_type": "error",
     "traceback": [
      "\u001b[1;31m---------------------------------------------------------------------------\u001b[0m",
      "\u001b[1;31mNameError\u001b[0m                                 Traceback (most recent call last)",
      "\u001b[1;32m<ipython-input-1-8baa667bc1cd>\u001b[0m in \u001b[0;36m<module>\u001b[1;34m\u001b[0m\n\u001b[1;32m----> 1\u001b[1;33m \u001b[0mreviews_metadata\u001b[0m\u001b[1;33m.\u001b[0m\u001b[0mhead\u001b[0m\u001b[1;33m(\u001b[0m\u001b[1;33m)\u001b[0m\u001b[1;33m\u001b[0m\u001b[1;33m\u001b[0m\u001b[0m\n\u001b[0m",
      "\u001b[1;31mNameError\u001b[0m: name 'reviews_metadata' is not defined"
     ]
    }
   ],
   "source": [
    "reviews_metadata.head()"
   ]
  }
 ],
 "metadata": {
  "kernelspec": {
   "display_name": "Python 3",
   "language": "python",
   "name": "python3"
  },
  "language_info": {
   "codemirror_mode": {
    "name": "ipython",
    "version": 3
   },
   "file_extension": ".py",
   "mimetype": "text/x-python",
   "name": "python",
   "nbconvert_exporter": "python",
   "pygments_lexer": "ipython3",
   "version": "3.7.3"
  }
 },
 "nbformat": 4,
 "nbformat_minor": 2
}
